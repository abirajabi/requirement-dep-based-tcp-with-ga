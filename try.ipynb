{
 "cells": [
  {
   "cell_type": "code",
   "execution_count": 81,
   "metadata": {},
   "outputs": [],
   "source": [
    "import csv\n",
    "\n",
    "def parse_rdr_matrix(path):\n",
    "        '''Parse RDR matrix from CSV to an array of tuple\n",
    "        params: path (String) to an RDR matrix file\n",
    "        return type: array of tuple\n",
    "        e.g. --> [\n",
    "            ('r1', [0, 0, 0.352, 0.085, 0, 0]),\n",
    "            ('r2', [0.066, 0, 0, 0.146, 0, 0]),\n",
    "        ]\n",
    "    '''\n",
    "\n",
    "    # TODO : add try catch mechanism\n",
    "\n",
    "    requirements = []\n",
    "    with open(path, mode='r', encoding=\"utf-8-sig\") as rdr_file:\n",
    "\n",
    "        csv_reader = csv.reader(rdr_file)\n",
    "        for row in csv_reader:\n",
    "            req_depend = []\n",
    "\n",
    "            for column in row:\n",
    "                val = float(column)\n",
    "                req_depend.append(val)\n",
    "            requirements.append((csv_reader.line_num, req_depend))\n",
    "    rdr_file.close()\n",
    "    return requirements"
   ]
  },
  {
   "cell_type": "code",
   "execution_count": 4,
   "metadata": {},
   "outputs": [],
   "source": [
    "class Genes:\n",
    "    def __init__(self, tc_number, tf, tr):\n",
    "        self.tc_number = tc_number\n",
    "        self.tf = tf\n",
    "        self.tr = tr"
   ]
  },
  {
   "cell_type": "code",
   "execution_count": 14,
   "metadata": {},
   "outputs": [],
   "source": [
    "import itertools\n",
    "import csv\n",
    "\n",
    "def parse_rdr_matrix(path):\n",
    "    requirements = []\n",
    "    with open(path, mode='r', encoding=\"utf-8-sig\") as rdr_file:\n",
    "\n",
    "        csv_reader = csv.reader(rdr_file)\n",
    "        for row in csv_reader:\n",
    "            req_depend = []\n",
    "\n",
    "            for column in row:\n",
    "                val = float(column)\n",
    "                req_depend.append(val)\n",
    "            requirements.append((csv_reader.line_num, req_depend))\n",
    "    rdr_file.close()\n",
    "    return requirements\n",
    "\n",
    "def parse_test_cases(tf_path, tr_path):\n",
    "    tr = []\n",
    "    tf = []\n",
    "    tc = []\n",
    "\n",
    "    with open(tf_path, mode='r', encoding=\"utf-8-sig\") as tf_file:\n",
    "        tf_reader = csv.reader(tf_file)\n",
    "\n",
    "        for row in tf_reader:\n",
    "            faults_covered = []\n",
    "            for column in row:\n",
    "                val = int(column)\n",
    "                faults_covered.append(val)\n",
    "\n",
    "            tf.append((tf_reader.line_num, faults_covered))\n",
    "\n",
    "    with open(tr_path, mode='r', encoding=\"utf-8-sig\") as tr_file:\n",
    "        tr_reader = csv.reader(tr_file)\n",
    "\n",
    "        for row in tr_reader:\n",
    "            requirements_covered = []\n",
    "            for column in row:\n",
    "                val = int(column)\n",
    "                requirements_covered.append(val)\n",
    "\n",
    "            tr.append((tr_reader.line_num, requirements_covered))\n",
    "\n",
    "    for tf_item, tr_item in zip(tf, tr):\n",
    "        tc.append(Gene(tf_item[0], tf_item[1], tr_item[1]))\n",
    "    return tc\n",
    "        \n"
   ]
  },
  {
   "cell_type": "code",
   "execution_count": 15,
   "metadata": {},
   "outputs": [],
   "source": [
    "# rdr = parse_rdr_matrix(\"./case_study_generated/CS1/rdr.csv\")\n",
    "# tr = parse_tr_matrix(\"./case_study_generated/CS1/tr.csv\")\n",
    "# tf = parse_tf_matrix(\"./case_study_generated/CS1/tf.csv\")\n",
    "tc = parse_test_cases(\"./case_study_generated/CS1/tf.csv\", \"./case_study_generated/CS1/tr.csv\")"
   ]
  },
  {
   "cell_type": "code",
   "execution_count": 17,
   "metadata": {},
   "outputs": [
    {
     "name": "stdout",
     "output_type": "stream",
     "text": [
      "1 [1, 0, 0, 0, 0, 1, 0, 0, 0, 0] [1, 0, 1, 0, 0, 1, 0, 0, 0, 0]\n",
      "2 [0, 1, 1, 0, 0, 0, 1, 0, 0, 0] [0, 1, 0, 0, 0, 0, 1, 0, 0, 0]\n",
      "3 [0, 0, 0, 1, 0, 0, 0, 0, 0, 0] [0, 0, 0, 0, 1, 0, 0, 0, 0, 0]\n",
      "4 [0, 0, 0, 0, 0, 0, 0, 1, 1, 0] [0, 0, 1, 0, 1, 0, 0, 0, 0, 1]\n",
      "5 [0, 0, 0, 0, 0, 0, 0, 0, 0, 1] [0, 0, 0, 1, 0, 0, 0, 1, 1, 1]\n",
      "6 [0, 0, 0, 0, 0, 0, 0, 0, 0, 0] [0, 1, 0, 0, 1, 0, 0, 0, 0, 0]\n",
      "7 [1, 0, 0, 0, 0, 1, 0, 0, 0, 0] [1, 0, 1, 0, 0, 1, 0, 0, 0, 0]\n",
      "8 [0, 0, 0, 1, 0, 0, 0, 0, 0, 0] [0, 0, 0, 0, 1, 0, 0, 0, 0, 0]\n",
      "9 [0, 0, 0, 0, 0, 0, 0, 0, 0, 0] [0, 0, 0, 0, 0, 0, 0, 1, 1, 0]\n",
      "10 [0, 1, 1, 0, 0, 0, 1, 0, 0, 0] [0, 1, 0, 0, 0, 0, 1, 0, 0, 0]\n",
      "11 [0, 0, 0, 0, 0, 0, 0, 0, 0, 1] [0, 0, 0, 1, 0, 0, 0, 1, 1, 1]\n",
      "12 [0, 0, 0, 0, 0, 0, 0, 1, 1, 0] [0, 0, 1, 0, 1, 0, 0, 0, 0, 1]\n",
      "13 [0, 0, 0, 0, 0, 0, 0, 0, 0, 0] [0, 0, 0, 0, 0, 0, 0, 1, 1, 0]\n",
      "14 [0, 0, 0, 0, 0, 0, 0, 0, 0, 0] [0, 1, 0, 0, 1, 0, 0, 0, 0, 0]\n",
      "15 [0, 0, 0, 0, 1, 0, 0, 0, 0, 0] [0, 0, 0, 0, 0, 1, 0, 0, 0, 0]\n",
      "16 [0, 1, 1, 0, 0, 0, 1, 0, 0, 0] [0, 1, 0, 0, 0, 0, 1, 0, 0, 0]\n",
      "17 [0, 0, 0, 1, 0, 0, 0, 0, 0, 0] [0, 0, 0, 0, 1, 0, 0, 0, 0, 0]\n",
      "18 [0, 0, 0, 0, 0, 0, 0, 0, 0, 0] [0, 1, 0, 0, 1, 0, 0, 0, 0, 0]\n",
      "19 [1, 0, 0, 0, 0, 1, 0, 0, 0, 0] [1, 0, 1, 0, 0, 1, 0, 0, 0, 0]\n",
      "20 [0, 0, 0, 0, 0, 0, 0, 0, 0, 1] [0, 0, 0, 1, 0, 0, 0, 1, 1, 1]\n",
      "21 [0, 0, 0, 0, 0, 0, 0, 1, 1, 0] [0, 0, 1, 0, 1, 0, 0, 0, 0, 1]\n",
      "22 [0, 0, 0, 0, 0, 0, 0, 0, 0, 0] [0, 1, 0, 0, 1, 0, 0, 0, 0, 0]\n",
      "23 [0, 0, 0, 1, 0, 0, 0, 0, 0, 0] [0, 0, 0, 0, 1, 0, 0, 0, 0, 0]\n",
      "24 [0, 0, 0, 0, 0, 0, 0, 0, 0, 0] [0, 0, 0, 0, 0, 0, 0, 1, 1, 0]\n",
      "25 [0, 1, 1, 0, 0, 0, 1, 0, 0, 0] [0, 1, 0, 0, 0, 0, 1, 0, 0, 0]\n",
      "26 [0, 0, 0, 0, 0, 0, 0, 0, 0, 1] [0, 0, 0, 1, 0, 0, 0, 1, 1, 1]\n",
      "27 [0, 0, 0, 0, 1, 0, 0, 0, 0, 0] [0, 0, 0, 0, 0, 1, 0, 0, 0, 0]\n",
      "28 [0, 0, 0, 0, 0, 0, 0, 1, 1, 0] [0, 0, 1, 0, 1, 0, 0, 0, 0, 1]\n",
      "29 [0, 0, 0, 1, 0, 0, 0, 0, 0, 0] [0, 0, 0, 0, 1, 0, 0, 0, 0, 0]\n",
      "30 [0, 0, 0, 0, 0, 0, 0, 0, 0, 0] [0, 1, 0, 0, 1, 0, 0, 0, 0, 0]\n"
     ]
    }
   ],
   "source": [
    "for item in tc:\n",
    "    print(item.tc_number, item.tf, item.tr)"
   ]
  },
  {
   "cell_type": "code",
   "execution_count": 95,
   "metadata": {},
   "outputs": [],
   "source": [
    "# determine n_fault, n_reqs, n_testcases\n",
    "n_faults = len(tf[0][1])\n",
    "n_reqs = len(rdr)\n",
    "n_tests = len(tr)"
   ]
  },
  {
   "cell_type": "code",
   "execution_count": 96,
   "metadata": {},
   "outputs": [
    {
     "name": "stdout",
     "output_type": "stream",
     "text": [
      "number fo fault 10\n",
      "number fo requirement 10\n",
      "number fo test cases 30\n"
     ]
    }
   ],
   "source": [
    "print(\"number of fault\", n_faults)\n",
    "print(\"number of requirement\", n_reqs)\n",
    "print(\"number of test cases\", n_tests)"
   ]
  },
  {
   "cell_type": "code",
   "execution_count": null,
   "metadata": {},
   "outputs": [],
   "source": [
    "def populate(index, chromosome):\n",
    "    \n",
    "    \n",
    "    random_index = random.randint(0, n_tests)\n",
    "    for i in range(0, n_tests):\n",
    "\n"
   ]
  },
  {
   "cell_type": "code",
   "execution_count": null,
   "metadata": {},
   "outputs": [],
   "source": [
    "def generate_population(population_size, chromosome_size):\n",
    "    population = []\n",
    "    for i in range(0, population_size):\n",
    "        chromosome = []\n",
    "        for j in range (0, chromosome_size):\n",
    "            populate"
   ]
  },
  {
   "cell_type": "code",
   "execution_count": 5,
   "metadata": {},
   "outputs": [],
   "source": [
    "import csv\n",
    "\n",
    "def parse_rdr_matrix(rdr_path):\n",
    "    requirements = []\n",
    "    with open(rdr_path, mode='r', encoding=\"utf-8-sig\") as rdr_file:\n",
    "\n",
    "        csv_reader = csv.reader(rdr_file)\n",
    "        for row in csv_reader:\n",
    "            req_depend = []\n",
    "\n",
    "            for column in row:\n",
    "                val = float(column)\n",
    "                req_depend.append(val)\n",
    "            requirements.append((csv_reader.line_num, req_depend))\n",
    "    rdr_file.close()\n",
    "    return requirements"
   ]
  },
  {
   "cell_type": "code",
   "execution_count": 6,
   "metadata": {},
   "outputs": [
    {
     "name": "stdout",
     "output_type": "stream",
     "text": [
      "[(1, [0.0, 0.0, 0.0, 0.0, 0.0, 0.0, 0.0, 0.0, 0.0, 0.0]), (2, [0.0, 0.0, 0.0, 0.0, 0.0, 1.0, 0.0, 0.0, 0.0, 0.0]), (3, [0.0, 0.0, 0.0, 0.0, 0.0, 0.0, 0.0, 0.0, 0.0, 0.0]), (4, [0.0, 0.0, 0.0, 0.0, 0.0, 0.0, 0.0, 0.0, 0.0, 0.0]), (5, [0.0, 0.0, 0.0, 0.0, 0.0, 0.0, 0.0, 0.0, 0.0, 0.0]), (6, [0.0, 0.0, 0.0, 0.0, 0.0, 0.0, 0.0, 0.0, 0.0, 0.0]), (7, [0.0, 0.0, 0.0, 0.0, 0.0, 0.0, 0.0, 0.0, 0.0, 0.0]), (8, [0.0, 0.0, 0.0, 0.0, 0.0, 0.0, 0.0, 0.0, 0.0, 0.0]), (9, [0.0, 0.0, 0.0, 0.0, 0.0, 0.0, 0.0, 0.0, 0.0, 0.0]), (10, [0.0, 0.0, 0.0, 0.0, 0.0, 0.0, 0.0, 0.0, 0.0, 0.0])]\n"
     ]
    }
   ],
   "source": [
    "rdr = parse_rdr_matrix(\"./case_study_generated/CS1/rdr.csv\")\n",
    "print(rdr)"
   ]
  },
  {
   "cell_type": "code",
   "execution_count": 7,
   "metadata": {},
   "outputs": [
    {
     "name": "stdout",
     "output_type": "stream",
     "text": [
      "0.0\n",
      "1.0\n",
      "0.0\n",
      "0.0\n",
      "0.0\n",
      "0.0\n",
      "0.0\n",
      "0.0\n",
      "0.0\n",
      "0.0\n"
     ]
    }
   ],
   "source": [
    "for item in rdr:\n",
    "    print(sum(item[1]))"
   ]
  },
  {
   "cell_type": "code",
   "execution_count": 10,
   "metadata": {},
   "outputs": [],
   "source": [
    "rdw = [0, 1, 0, 1, 0]\n",
    "\n",
    "def calc_dep_weight(tr):\n",
    "        tdw = 0\n",
    "        for i in range(0, len(tr)):\n",
    "            if tr[i] == 1:\n",
    "                tdw += rdw[i]\n",
    "        \n",
    "        return tdw"
   ]
  },
  {
   "cell_type": "code",
   "execution_count": 12,
   "metadata": {},
   "outputs": [
    {
     "name": "stdout",
     "output_type": "stream",
     "text": [
      "0\n",
      "1\n",
      "2\n",
      "3\n",
      "4\n"
     ]
    }
   ],
   "source": [
    "for i in range(0, len([0, 1, 0, 1, 0])):\n",
    "    print(i)"
   ]
  },
  {
   "cell_type": "code",
   "execution_count": null,
   "metadata": {},
   "outputs": [],
   "source": []
  }
 ],
 "metadata": {
  "interpreter": {
   "hash": "e43218dfb808d5e944b223d47074c606a8843032f423faa522470890bbd1bda2"
  },
  "kernelspec": {
   "display_name": "Python 3.8.6 64-bit",
   "name": "python3"
  },
  "language_info": {
   "codemirror_mode": {
    "name": "ipython",
    "version": 3
   },
   "file_extension": ".py",
   "mimetype": "text/x-python",
   "name": "python",
   "nbconvert_exporter": "python",
   "pygments_lexer": "ipython3",
   "version": "3.8.6"
  },
  "orig_nbformat": 4
 },
 "nbformat": 4,
 "nbformat_minor": 2
}
